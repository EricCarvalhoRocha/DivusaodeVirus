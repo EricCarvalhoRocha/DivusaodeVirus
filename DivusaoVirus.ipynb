{
 "cells": [
  {
   "cell_type": "code",
   "execution_count": null,
   "id": "5f9bfe48",
   "metadata": {},
   "outputs": [
    {
     "data": {
      "text/html": [
       "<div id=\"glowscript\" class=\"glowscript\"></div>"
      ],
      "text/plain": [
       "<IPython.core.display.HTML object>"
      ]
     },
     "metadata": {},
     "output_type": "display_data"
    },
    {
     "data": {
      "application/javascript": [
       "if (typeof Jupyter !== \"undefined\") { window.__context = { glowscript_container: $(\"#glowscript\").removeAttr(\"id\")};}else{ element.textContent = ' ';}"
      ],
      "text/plain": [
       "<IPython.core.display.Javascript object>"
      ]
     },
     "metadata": {},
     "output_type": "display_data"
    },
    {
     "data": {
      "text/html": [
       "<div id=\"glowscript\" class=\"glowscript\"></div>"
      ],
      "text/plain": [
       "<IPython.core.display.HTML object>"
      ]
     },
     "metadata": {},
     "output_type": "display_data"
    },
    {
     "data": {
      "application/javascript": [
       "if (typeof Jupyter !== \"undefined\") { window.__context = { glowscript_container: $(\"#glowscript\").removeAttr(\"id\")};}else{ element.textContent = ' ';}"
      ],
      "text/plain": [
       "<IPython.core.display.Javascript object>"
      ]
     },
     "metadata": {},
     "output_type": "display_data"
    },
    {
     "data": {
      "application/javascript": [
       "if (typeof Jupyter !== \"undefined\") {require.undef(\"nbextensions/vpython_libraries/glow.min\");}else{element.textContent = ' ';}"
      ],
      "text/plain": [
       "<IPython.core.display.Javascript object>"
      ]
     },
     "metadata": {},
     "output_type": "display_data"
    },
    {
     "data": {
      "application/javascript": [
       "if (typeof Jupyter !== \"undefined\") {require.undef(\"nbextensions/vpython_libraries/glowcomm\");}else{element.textContent = ' ';}"
      ],
      "text/plain": [
       "<IPython.core.display.Javascript object>"
      ]
     },
     "metadata": {},
     "output_type": "display_data"
    },
    {
     "data": {
      "application/javascript": [
       "if (typeof Jupyter !== \"undefined\") {require.undef(\"nbextensions/vpython_libraries/jquery-ui.custom.min\");}else{element.textContent = ' ';}"
      ],
      "text/plain": [
       "<IPython.core.display.Javascript object>"
      ]
     },
     "metadata": {},
     "output_type": "display_data"
    },
    {
     "data": {
      "application/javascript": [
       "if (typeof Jupyter !== \"undefined\") {require([\"nbextensions/vpython_libraries/glow.min\"], function(){console.log(\"GLOW LOADED\");});}else{element.textContent = ' ';}"
      ],
      "text/plain": [
       "<IPython.core.display.Javascript object>"
      ]
     },
     "metadata": {},
     "output_type": "display_data"
    },
    {
     "data": {
      "application/javascript": [
       "if (typeof Jupyter !== \"undefined\") {require([\"nbextensions/vpython_libraries/glowcomm\"], function(){console.log(\"GLOWCOMM LOADED\");});}else{element.textContent = ' ';}"
      ],
      "text/plain": [
       "<IPython.core.display.Javascript object>"
      ]
     },
     "metadata": {},
     "output_type": "display_data"
    },
    {
     "data": {
      "application/javascript": [
       "if (typeof Jupyter !== \"undefined\") {require([\"nbextensions/vpython_libraries/jquery-ui.custom.min\"], function(){console.log(\"JQUERY LOADED\");});}else{element.textContent = ' ';}"
      ],
      "text/plain": [
       "<IPython.core.display.Javascript object>"
      ]
     },
     "metadata": {},
     "output_type": "display_data"
    }
   ],
   "source": [
    "from math import *\n",
    "from vpython import *\n",
    "#from visual.graph import *\n",
    "import random\n",
    "\n",
    "saida = open(\"100size20t30.dat\", \"w\")\n",
    "saida2 = open(\"100size20t30NINFEC.dat\", \"w\")\n",
    "saida3 = open(\"100size20t30Maximo.dat\", \"w\")\n",
    "\n",
    "#o tamanho destas matrizes muda de acordo com N(N-1)/2\n",
    "#com excecao de massas que varia com N\n",
    "#valor das massas\n",
    "\n",
    "scene2 = canvas(title='virus',\n",
    "     width=600, height=600,\n",
    "     center=vector(0,0,-10), background=color.black)\n",
    "\n",
    "N=100\n",
    "Infectados=[0]*N\n",
    "Himunes=[0]*N\n",
    "somaInfectados=0\n",
    "Maximo=0\n",
    "somaNaoInfectados=0\n",
    "size=20\n",
    "a=1\n",
    "b=1\n",
    "AA=[0]*int(N*(N-1)/2)\n",
    "BB=[0]*int(N*(N-1)/2)\n",
    "XX=[0]*int(N*(N-1)/2)\n",
    "YY=[0]*int(N*(N-1)/2)\n",
    "ZZ=[0]*int(N*(N-1)/2)\n",
    "\n",
    "BolaPosicaoX=[0]*int(N*(N-1)/2)\n",
    "BolaPosicaoY=[0]*int(N*(N-1)/2)\n",
    "BolaPosicaoZ=[0]*int(N*(N-1)/2)\n",
    "\n",
    "BolaVelocidadeX=[0]*int(N*(N-1)/2)\n",
    "BolaVelocidadeY=[0]*int(N*(N-1)/2)\n",
    "BolaVelocidadeZ=[0]*int(N*(N-1)/2)\n",
    "\n",
    "constanteX=[0]*int(N*(N-1)/2)\n",
    "constanteY=[0]*int(N*(N-1)/2)\n",
    "constanteZ=[0]*int(N*(N-1)/2)\n",
    "\n",
    "ModuloquadradoX=[0]*int(N*(N-1)/2)\n",
    "ModuloquadradoY=[0]*int(N*(N-1)/2)\n",
    "ModuloquadradoZ=[0]*int(N*(N-1)/2)\n",
    "\n",
    "rest=[0]*int(N*(N-1)/2)\n",
    "\n",
    "ball=[0]*int(N*(N-1)/2)\n",
    "\n",
    "#o valor entre parentes vai de N(N-1)/2\n",
    "for i in range(int(N*(N-1)/2)):\n",
    "\tif (b < N):\n",
    "\t\tb=b+1\n",
    "\t\tAA[i]=a\n",
    "\t\tBB[i]=b\n",
    "\telse:\n",
    "\t\tb=a+2\n",
    "\t\ta=a+1\n",
    "\t\tAA[i]=a\n",
    "\t\tBB[i]=b\n",
    "\n",
    "######################################### Grafico cor\n",
    "f1 = gcurve(color=color.red)\n",
    "#f2 = gcurve(color=color.blue)\n",
    "############################################################# BOLAS\n",
    "ball[0] = sphere(pos=vec(0,0,0), radius=0.5, color=color.blue)\n",
    "Infectados[0]=1\n",
    "for i in range(int(N-1)):\n",
    "\tball[i+1] = sphere(pos=vec(random.randrange(-size,size),random.randrange(-size,size),0), radius=0.5, color=color.red)\n",
    "\n",
    "################################################################### POSICOES DAS PAREDES\n",
    "wallR = box(pos=vec(size,0,0), size=vec(0.3,2*size,2), color=color.white)\n",
    "wallL = box(pos=vec(-size,0,0), size=vec(0.3,2*size,2), color=color.white)\n",
    "wallU = box(pos=vec(0,size,0), size=vec(2*size,0.3,2), color=color.white)\n",
    "wallD = box(pos=vec(0,-size,0), size=vec(2*size,0.3,2), color=color.white)\n",
    "#wallF = box(pos=vec(0,0,6), size=vec(12,12,0.3), color=color.blue)\n",
    "wallB = box(pos=vec(0,0,-size), size=vec(3*size,3*size,0.3), color=color.white) \n",
    "#################################################################### VELOCIDADES INICIAIS\n",
    "for i in range(int(N)):\n",
    "\tball[i].velocity = vector(random.randrange(-1,1),random.randrange(-1,1),0)\n",
    "\n",
    "\n",
    "deltat=0.05\n",
    "#tempo\n",
    "t=0\n",
    "#tempo de transmicao\n",
    "t2=[30]*N\n",
    "\n",
    "while  t < 1000000:\n",
    "#while True:\n",
    "\trate(40)\n",
    "\n",
    "#\tr=random.randrange(-1,2)\n",
    "#\tab=int(r)\n",
    "\n",
    "#\tball[0].velocity=vector(ab,0,0)\n",
    "#\tball3.velocity=vector(ac2,0,0)\n",
    "\n",
    "\tsomaInfectados=0\n",
    "\tsomaNaoInfectados=0\n",
    "\n",
    "##############################################################################\n",
    "\tfor i in range(int(N)):\n",
    "\t\tif ball[i].pos.x > wallR.pos.x and ball[i].velocity.x > 0:\n",
    "\t\t\tball[i].velocity.x=-ball[i].velocity.x\n",
    "\t\tif ball[i].pos.x < wallL.pos.x and ball[i].velocity.x < 0:\n",
    "\t\t\tball[i].velocity.x=-ball[i].velocity.x\n",
    "\t\tif ball[i].pos.y > wallU.pos.y and ball[i].velocity.y > 0:\n",
    "\t\t\tball[i].velocity.y=-ball[i].velocity.y\n",
    "\t\tif ball[i].pos.y < wallD.pos.y and ball[i].velocity.y < 0:\n",
    "\t\t\tball[i].velocity.y=-ball[i].velocity.y\n",
    "\t\tif ball[i].pos.z > 6 and ball[i].velocity.z > 0:\n",
    "\t\t\tball[i].velocity.z=-ball[i].velocity.z\n",
    "\t\tif ball[i].pos.z < wallB.pos.z and ball[i].velocity.z < 0:\n",
    "\t\t\tball[i].velocity.z=-ball[i].velocity.z\n",
    "##############################################################################\n",
    "\tfor i in range(int(N*(N-1)/2)):\n",
    "\t\tconstanteX[i]=ball[AA[i]-1].pos.x-ball[BB[i]-1].pos.x\t\t\n",
    "\t\tconstanteY[i]=ball[AA[i]-1].pos.y-ball[BB[i]-1].pos.y\t\t\n",
    "\t\tconstanteZ[i]=ball[AA[i]-1].pos.z-ball[BB[i]-1].pos.z\n",
    "\n",
    "\t\tModuloquadradoX[i]=(constanteX[i]**2)**(0.5)\n",
    "\t\tModuloquadradoY[i]=(constanteY[i]**2)**(0.5)\n",
    "\t\tModuloquadradoZ[i]=(constanteZ[i]**2)**(0.5)\n",
    "\n",
    "\t\trest[i]=(ModuloquadradoX[i]**2+ModuloquadradoY[i]**2+ModuloquadradoZ[i]**2)**(0.5)\t\n",
    "\n",
    "#a quantidade <= he duas vezes o raio das particulas em choque\n",
    "\tfor i in range(int(N*(N-1)/2)):\n",
    "\t\tif rest[i] <= 2*ball[0].radius :\n",
    "#\t\t\tprint('bateu')\n",
    "\t\t\tif Infectados[AA[i]-1] ==  1 or Infectados[BB[i]-1] ==  1:\n",
    "\t\t\t\tif Infectados[AA[i]-1] ==  1 and Himunes[BB[i]-1] == 0:\n",
    "\t\t\t\t\tball[AA[i]-1].color = color.blue\n",
    "\t\t\t\t\tball[BB[i]-1].color = color.blue\n",
    "\t\t\t\t\tInfectados[AA[i]-1] =  1\n",
    "\t\t\t\t\tInfectados[BB[i]-1] =  1\n",
    "\t\t\t\tif Infectados[AA[i]-1] ==  1 and Himunes[BB[i]-1] == 1:\n",
    "\t\t\t\t\tball[AA[i]-1].color = color.blue\n",
    "\t\t\t\t\tball[BB[i]-1].color = color.red\n",
    "\t\t\t\t\tInfectados[AA[i]-1] =  1\n",
    "\t\t\t\t\tInfectados[BB[i]-1] =  1\n",
    "\t\t\t\tif Infectados[BB[i]-1] ==  1 and Himunes[AA[i]-1] == 0:\n",
    "\t\t\t\t\tball[AA[i]-1].color = color.blue\n",
    "\t\t\t\t\tball[BB[i]-1].color = color.blue\n",
    "\t\t\t\t\tInfectados[AA[i]-1] =  1\n",
    "\t\t\t\t\tInfectados[BB[i]-1] =  1\n",
    "\t\t\t\tif Infectados[BB[i]-1] ==  1 and Himunes[AA[i]-1] == 1:\n",
    "\t\t\t\t\tball[AA[i]-1].color = color.red\n",
    "\t\t\t\t\tball[BB[i]-1].color = color.blue\n",
    "\t\t\t\t\tInfectados[AA[i]-1] =  1\n",
    "\t\t\t\t\tInfectados[BB[i]-1] =  1\n",
    "\t\n",
    "\t\n",
    "\tfor i in range(int(N)):\n",
    "\t\tif Infectados[i] == 1:\n",
    "\t\t\tif t2[i]>0:\t\n",
    "\t\t\t\tt2[i]=t2[i]-deltat\n",
    "\t\t\tif t2[i]<=0:\n",
    "\t\t\t\tInfectados[i] = 0\n",
    "\t\t\t\tHimunes[i] = 1\n",
    "\t\t\t\tball[i].color = color.red\n",
    "\n",
    "\t#movimento\n",
    "\tfor i in range(int(N)):\n",
    "\t\tball[i].pos = ball[i].pos + ball[i].velocity*deltat\n",
    "\n",
    "\tt= t + deltat\n",
    "\t\n",
    "\t#soma de infectados em um determinado momento\n",
    "\tfor i in range(int(N)):\n",
    "\t\tsomaInfectados=somaInfectados + Infectados[i]\n",
    "\t\n",
    "\t#nao infectados depois que tudo termina\n",
    "\tfor i in range(int(N)):\n",
    "\t\tsomaNaoInfectados=somaNaoInfectados + (-Himunes[i]+1)\n",
    "\n",
    "\t#Maximo de infectados ao mesmo tempo\n",
    "\tif somaInfectados > Maximo:\n",
    "\t\tMaximo = somaInfectados \n",
    "\n",
    "\tf1.plot(pos=(t,somaInfectados) )\n",
    "#\tf2.plot(pos=(t,150-somaNaoInfectados) )\n",
    "\n",
    "#\tsaida.write(str(t \",\"somaInfectados))\n",
    "\tsaida.write(str(t) + \" , \" + str(somaInfectados))\n",
    "\tsaida.write('\\n')\n",
    "\tif somaInfectados == 0:\n",
    "\t\tsaida2.write(str(somaNaoInfectados))\n",
    "\t\tsaida3.write(str(Maximo))\n",
    "\t\tprint ('somaNaoInfectados=',somaNaoInfectados)\n",
    "\t\tprint ('Maximo=',Maximo)\n",
    "\t\tsaida.close()\n",
    "\t\tsaida2.close()\n",
    "\t\tsaida3.close()"
   ]
  },
  {
   "cell_type": "code",
   "execution_count": null,
   "id": "480fc254",
   "metadata": {},
   "outputs": [],
   "source": []
  }
 ],
 "metadata": {
  "kernelspec": {
   "display_name": "Python 3 (ipykernel)",
   "language": "python",
   "name": "python3"
  },
  "language_info": {
   "codemirror_mode": {
    "name": "ipython",
    "version": 3
   },
   "file_extension": ".py",
   "mimetype": "text/x-python",
   "name": "python",
   "nbconvert_exporter": "python",
   "pygments_lexer": "ipython3",
   "version": "3.8.10"
  }
 },
 "nbformat": 4,
 "nbformat_minor": 5
}
